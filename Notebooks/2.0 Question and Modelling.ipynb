{
 "cells": [
  {
   "cell_type": "markdown",
   "id": "fb571aa8",
   "metadata": {},
   "source": [
    "<div style=\"text-align: center; background-color: #0A6EBD; font-family: 'Trebuchet MS', Arial, sans-serif; color: white; padding: 20px; font-size: 40px; font-weight: bold; border-radius: 0 0 0 0; box-shadow: 0px 6px 8px rgba(0, 0, 0, 0.2);\">\n",
    "    FIT-HCMUS, VNU-HCM \n",
    "    <br>\n",
    "    LẬP TRÌNH KHOA HỌC DỮ LIỆU \n",
    "    <br>\n",
    "    Final project 📌\n",
    "</div>"
   ]
  },
  {
   "cell_type": "markdown",
   "id": "eadc8a8a",
   "metadata": {},
   "source": [
    "<div style=\"text-align: center; background-color: #5A96E3; font-family: 'Trebuchet MS', Arial, sans-serif; color: white; padding: 20px; font-size: 40px; font-weight: bold; border-radius: 0 0 0 0; box-shadow: 0px 6px 8px rgba(0, 0, 0, 0.2);\">\n",
    " Question and modelling📌\n",
    "</div>\n"
   ]
  },
  {
   "cell_type": "markdown",
   "id": "27f00079",
   "metadata": {},
   "source": [
    "# 0. Question"
   ]
  },
  {
   "cell_type": "markdown",
   "id": "7dd692ff",
   "metadata": {},
   "source": [
    "- Loans are really important because they help people buy homes, start businesses, or even medical emergency .Despite their importance, the loan approval process is often marred by time-consuming manual assessments, leading to occasional errors and delays. This issue becomes particularly critical when borrowers require funds promptly for time-sensitive ventures. \n",
    "\n",
    "**Question:** How can we predict one person's loan approval status with high accuracy and low time budget?\n",
    "\n",
    "- Luckily, with the remarkable computation power of computers, we can solve the problem within seconds if only we have a good model that predicts precise outcomes."
   ]
  },
  {
   "cell_type": "markdown",
   "id": "8160bb94",
   "metadata": {},
   "source": [
    "# 1. Import relevant libraries and modules"
   ]
  },
  {
   "cell_type": "code",
   "execution_count": 1,
   "id": "ba1d7969",
   "metadata": {},
   "outputs": [],
   "source": [
    "import pandas as pd\n",
    "import numpy as np\n",
    "import matplotlib.pyplot as plt\n",
    "import seaborn as sns\n",
    "import statsmodels.api as sm\n",
    "from sklearn.preprocessing import StandardScaler"
   ]
  },
  {
   "cell_type": "markdown",
   "id": "e5dbbd10",
   "metadata": {},
   "source": [
    "# 2. Load and map data"
   ]
  },
  {
   "cell_type": "code",
   "execution_count": null,
   "id": "63179d43",
   "metadata": {},
   "outputs": [],
   "source": []
  }
 ],
 "metadata": {
  "kernelspec": {
   "display_name": "Python 3 (ipykernel)",
   "language": "python",
   "name": "python3"
  },
  "language_info": {
   "codemirror_mode": {
    "name": "ipython",
    "version": 3
   },
   "file_extension": ".py",
   "mimetype": "text/x-python",
   "name": "python",
   "nbconvert_exporter": "python",
   "pygments_lexer": "ipython3",
   "version": "3.9.18"
  }
 },
 "nbformat": 4,
 "nbformat_minor": 5
}
