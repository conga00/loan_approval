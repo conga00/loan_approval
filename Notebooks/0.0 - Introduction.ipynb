{
 "cells": [
  {
   "cell_type": "markdown",
   "id": "0d39dd48",
   "metadata": {},
   "source": [
    "<div style=\"text-align: center; background-color: #0A6EBD; font-family: 'Trebuchet MS', Arial, sans-serif; color: white; padding: 20px; font-size: 40px; font-weight: bold; border-radius: 0 0 0 0; box-shadow: 0px 6px 8px rgba(0, 0, 0, 0.2);\">\n",
    "    FIT-HCMUS, VNU-HCM \n",
    "    <br>\n",
    "    LẬP TRÌNH KHOA HỌC DỮ LIỆU \n",
    "    <br>\n",
    "    Final project 📌\n",
    "</div>"
   ]
  },
  {
   "cell_type": "markdown",
   "id": "0be4e6cb",
   "metadata": {},
   "source": [
    "## Members\n",
    "\n",
    "| Student ID | Name            |\n",
    "| ---------- | ----------------|\n",
    "| 21127107   | Bùi Vũ Thế Minh |"
   ]
  },
  {
   "cell_type": "markdown",
   "id": "acd77f6e",
   "metadata": {},
   "source": [
    "## About the dataset\n",
    "The loan approval dataset is a collection of financial records and associated information used to determine the eligibility of individuals or organizations for obtaining loans from a lending institution. It includes various factors such as cibil score, income, employment status, loan term, loan amount, assets value, and loan status. This dataset is commonly used in machine learning and data analysis to develop models and algorithms that predict the likelihood of loan approval based on the given features.\n",
    "<br>\n",
    "## Author Name\n",
    "Archit Sharma\n",
    "<br>\n",
    "## License and Copyright\n",
    "Unknown, this mean I cannot modify the dataset\n",
    "<br>\n",
    "## Source\n",
    "this dataset is from kaggle.com"
   ]
  }
 ],
 "metadata": {
  "kernelspec": {
   "display_name": "Python 3 (ipykernel)",
   "language": "python",
   "name": "python3"
  },
  "language_info": {
   "codemirror_mode": {
    "name": "ipython",
    "version": 3
   },
   "file_extension": ".py",
   "mimetype": "text/x-python",
   "name": "python",
   "nbconvert_exporter": "python",
   "pygments_lexer": "ipython3",
   "version": "3.9.18"
  }
 },
 "nbformat": 4,
 "nbformat_minor": 5
}
