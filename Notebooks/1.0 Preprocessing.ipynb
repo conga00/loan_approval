{
 "cells": [
  {
   "cell_type": "markdown",
   "id": "ca698716",
   "metadata": {},
   "source": [
    "<div style=\"text-align: center; background-color: #0A6EBD; font-family: 'Trebuchet MS', Arial, sans-serif; color: white; padding: 20px; font-size: 40px; font-weight: bold; border-radius: 0 0 0 0; box-shadow: 0px 6px 8px rgba(0, 0, 0, 0.2);\">\n",
    "    FIT-HCMUS, VNU-HCM \n",
    "    <br>\n",
    "    LẬP TRÌNH KHOA HỌC DỮ LIỆU \n",
    "    <br>\n",
    "    Final project 📌\n",
    "</div>"
   ]
  },
  {
   "cell_type": "markdown",
   "id": "f44ba32c",
   "metadata": {},
   "source": [
    "<div style=\"text-align: center; background-color: #5A96E3; font-family: 'Trebuchet MS', Arial, sans-serif; color: white; padding: 20px; font-size: 40px; font-weight: bold; border-radius: 0 0 0 0; box-shadow: 0px 6px 8px rgba(0, 0, 0, 0.2);\">\n",
    "  Stage 01 - Preprocessing📌\n",
    "</div>\n"
   ]
  },
  {
   "cell_type": "markdown",
   "id": "6d37262b",
   "metadata": {},
   "source": [
    "# 1. Import relevant modules and libraries"
   ]
  },
  {
   "cell_type": "code",
   "execution_count": 2,
   "id": "6ada5c9c",
   "metadata": {},
   "outputs": [],
   "source": [
    "import pandas as pd\n",
    "import numpy as np\n",
    "import matplotlib.pyplot as plt\n",
    "import seaborn as sns"
   ]
  },
  {
   "cell_type": "markdown",
   "id": "f8c566cf",
   "metadata": {},
   "source": [
    "# 2. Read and clean data"
   ]
  },
  {
   "cell_type": "code",
   "execution_count": 4,
   "id": "77a7415f",
   "metadata": {},
   "outputs": [
    {
     "data": {
      "text/html": [
       "<div>\n",
       "<style scoped>\n",
       "    .dataframe tbody tr th:only-of-type {\n",
       "        vertical-align: middle;\n",
       "    }\n",
       "\n",
       "    .dataframe tbody tr th {\n",
       "        vertical-align: top;\n",
       "    }\n",
       "\n",
       "    .dataframe thead th {\n",
       "        text-align: right;\n",
       "    }\n",
       "</style>\n",
       "<table border=\"1\" class=\"dataframe\">\n",
       "  <thead>\n",
       "    <tr style=\"text-align: right;\">\n",
       "      <th></th>\n",
       "      <th>loan_id</th>\n",
       "      <th>no_of_dependents</th>\n",
       "      <th>education</th>\n",
       "      <th>self_employed</th>\n",
       "      <th>income_annum</th>\n",
       "      <th>loan_amount</th>\n",
       "      <th>loan_term</th>\n",
       "      <th>cibil_score</th>\n",
       "      <th>residential_assets_value</th>\n",
       "      <th>commercial_assets_value</th>\n",
       "      <th>luxury_assets_value</th>\n",
       "      <th>bank_asset_value</th>\n",
       "      <th>loan_status</th>\n",
       "    </tr>\n",
       "  </thead>\n",
       "  <tbody>\n",
       "    <tr>\n",
       "      <th>0</th>\n",
       "      <td>1</td>\n",
       "      <td>2</td>\n",
       "      <td>Graduate</td>\n",
       "      <td>No</td>\n",
       "      <td>9600000</td>\n",
       "      <td>29900000</td>\n",
       "      <td>12</td>\n",
       "      <td>778</td>\n",
       "      <td>2400000</td>\n",
       "      <td>17600000</td>\n",
       "      <td>22700000</td>\n",
       "      <td>8000000</td>\n",
       "      <td>Approved</td>\n",
       "    </tr>\n",
       "    <tr>\n",
       "      <th>1</th>\n",
       "      <td>2</td>\n",
       "      <td>0</td>\n",
       "      <td>Not Graduate</td>\n",
       "      <td>Yes</td>\n",
       "      <td>4100000</td>\n",
       "      <td>12200000</td>\n",
       "      <td>8</td>\n",
       "      <td>417</td>\n",
       "      <td>2700000</td>\n",
       "      <td>2200000</td>\n",
       "      <td>8800000</td>\n",
       "      <td>3300000</td>\n",
       "      <td>Rejected</td>\n",
       "    </tr>\n",
       "    <tr>\n",
       "      <th>2</th>\n",
       "      <td>3</td>\n",
       "      <td>3</td>\n",
       "      <td>Graduate</td>\n",
       "      <td>No</td>\n",
       "      <td>9100000</td>\n",
       "      <td>29700000</td>\n",
       "      <td>20</td>\n",
       "      <td>506</td>\n",
       "      <td>7100000</td>\n",
       "      <td>4500000</td>\n",
       "      <td>33300000</td>\n",
       "      <td>12800000</td>\n",
       "      <td>Rejected</td>\n",
       "    </tr>\n",
       "    <tr>\n",
       "      <th>3</th>\n",
       "      <td>4</td>\n",
       "      <td>3</td>\n",
       "      <td>Graduate</td>\n",
       "      <td>No</td>\n",
       "      <td>8200000</td>\n",
       "      <td>30700000</td>\n",
       "      <td>8</td>\n",
       "      <td>467</td>\n",
       "      <td>18200000</td>\n",
       "      <td>3300000</td>\n",
       "      <td>23300000</td>\n",
       "      <td>7900000</td>\n",
       "      <td>Rejected</td>\n",
       "    </tr>\n",
       "    <tr>\n",
       "      <th>4</th>\n",
       "      <td>5</td>\n",
       "      <td>5</td>\n",
       "      <td>Not Graduate</td>\n",
       "      <td>Yes</td>\n",
       "      <td>9800000</td>\n",
       "      <td>24200000</td>\n",
       "      <td>20</td>\n",
       "      <td>382</td>\n",
       "      <td>12400000</td>\n",
       "      <td>8200000</td>\n",
       "      <td>29400000</td>\n",
       "      <td>5000000</td>\n",
       "      <td>Rejected</td>\n",
       "    </tr>\n",
       "  </tbody>\n",
       "</table>\n",
       "</div>"
      ],
      "text/plain": [
       "   loan_id   no_of_dependents      education  self_employed   income_annum  \\\n",
       "0        1                  2       Graduate             No        9600000   \n",
       "1        2                  0   Not Graduate            Yes        4100000   \n",
       "2        3                  3       Graduate             No        9100000   \n",
       "3        4                  3       Graduate             No        8200000   \n",
       "4        5                  5   Not Graduate            Yes        9800000   \n",
       "\n",
       "    loan_amount   loan_term   cibil_score   residential_assets_value  \\\n",
       "0      29900000          12           778                    2400000   \n",
       "1      12200000           8           417                    2700000   \n",
       "2      29700000          20           506                    7100000   \n",
       "3      30700000           8           467                   18200000   \n",
       "4      24200000          20           382                   12400000   \n",
       "\n",
       "    commercial_assets_value   luxury_assets_value   bank_asset_value  \\\n",
       "0                  17600000              22700000            8000000   \n",
       "1                   2200000               8800000            3300000   \n",
       "2                   4500000              33300000           12800000   \n",
       "3                   3300000              23300000            7900000   \n",
       "4                   8200000              29400000            5000000   \n",
       "\n",
       "   loan_status  \n",
       "0     Approved  \n",
       "1     Rejected  \n",
       "2     Rejected  \n",
       "3     Rejected  \n",
       "4     Rejected  "
      ]
     },
     "execution_count": 4,
     "metadata": {},
     "output_type": "execute_result"
    }
   ],
   "source": [
    "raw_data = pd.read_csv('../data/loan_approval_dataset.csv')\n",
    "raw_data.head()"
   ]
  },
  {
   "cell_type": "code",
   "execution_count": 5,
   "id": "de83a826",
   "metadata": {},
   "outputs": [
    {
     "name": "stdout",
     "output_type": "stream",
     "text": [
      "This dataset has 4269 rows and 13 columns\n"
     ]
    }
   ],
   "source": [
    "print(f\"This dataset has {raw_data.shape[0]} rows and {raw_data.shape[1]} columns\")"
   ]
  },
  {
   "cell_type": "markdown",
   "id": "b95c9ab8",
   "metadata": {},
   "source": [
    "## Columns meaning"
   ]
  },
  {
   "cell_type": "markdown",
   "id": "617ee545",
   "metadata": {},
   "source": [
    "<table style=\"font-family: Arial, sans-serif; font-size: 16px;\">\n",
    "  <tr>\n",
    "    <th><b>Attribute</b></th>\n",
    "    <th><b>Description</b></th>\n",
    "  </tr>\n",
    "  <tr>\n",
    "    <td><b>loan_id</b></td>\n",
    "    <td>The unique identification number of each sample.</td>\n",
    "  </tr>\n",
    "  <tr>\n",
    "    <td><b>no_of_dependents</b></td>\n",
    "    <td>The number of dependents of the applicant.</td>\n",
    "  </tr>\n",
    "  <tr>\n",
    "    <td><b>education</b></td>\n",
    "    <td>The edducation level of the applicant, either <b>Graduate</b> or <b>Not Graduate</b>.</td>\n",
    "  </tr>\n",
    "  <tr>\n",
    "      <td><b>self_employed</b></td>\n",
    "      <td>Either if the applicant is self employed or not.</td>\n",
    "    </tr>\n",
    "  <tr>\n",
    "      <td><b>income_annum</b></td>\n",
    "      <td>The annual income of the applicant.</td>\n",
    "    </tr>\n",
    "  <tr>\n",
    "      <td><b>loan_amount</b></td>\n",
    "      <td>The total amount requested for the loan.</td>\n",
    "    </tr>\n",
    "  <tr>\n",
    "      <td><b>loan_term</b></td>\n",
    "      <td>The duration, in years, within which the loan must be repaid.</td>\n",
    "    </tr>\n",
    "  <tr>\n",
    "      <td><b>cibil_score</b></td>\n",
    "      <td>Credit score of the applicant.</td>\n",
    "    </tr>\n",
    "  <tr>\n",
    "      <td><b>residential_assets_value</b></td>\n",
    "      <td>The total value of the applicant's residential assets.</td>\n",
    "    </tr>\n",
    "  <tr>\n",
    "      <td><b>commercial_assets_value</b></td>\n",
    "      <td>The total value of the applicant's commercial assets.</td>\n",
    "    </tr>\n",
    " <tr>\n",
    "      <td><b>luxury_assets_value</b></td>\n",
    "      <td>The total value of the applicant's luxury assets.</td>\n",
    "    </tr>\n",
    " <tr>\n",
    "      <td><b>bank_asset_value</b></td>\n",
    "      <td>The total value of the applicant's bank assets.</td>\n",
    "    </tr>\n",
    " <tr>\n",
    "      <td><b>loan_status</b></td>\n",
    "      <td>Target variable. Describes whether the loan was approved or not.</td>\n",
    "    </tr>\n",
    "</table>"
   ]
  },
  {
   "cell_type": "markdown",
   "id": "d341edb4",
   "metadata": {},
   "source": [
    "## Handle duplicated rows"
   ]
  },
  {
   "cell_type": "code",
   "execution_count": 8,
   "id": "406102b2",
   "metadata": {},
   "outputs": [
    {
     "name": "stdout",
     "output_type": "stream",
     "text": [
      "Raw data have no duplicated rows!\n"
     ]
    }
   ],
   "source": [
    "index = raw_data.index\n",
    "detect_dup_series = index.duplicated(keep='first')\n",
    "num_duplicated_rows = detect_dup_series.sum()\n",
    "if num_duplicated_rows == 0:\n",
    "    print(f\"Raw data have no duplicated rows!\")\n",
    "else:\n",
    "    if num_duplicated_rows > 1:\n",
    "        ext = \"lines\"\n",
    "    else:\n",
    "        ext = \"line\"\n",
    "    print(f\"Raw data have {num_duplicated_rows} duplicated \" + ext + \". Please de-deduplicate the data!\")"
   ]
  },
  {
   "cell_type": "markdown",
   "id": "6cde70ec",
   "metadata": {},
   "source": [
    "## Inspect and handle columns name"
   ]
  },
  {
   "cell_type": "code",
   "execution_count": 10,
   "id": "5100e685",
   "metadata": {},
   "outputs": [
    {
     "data": {
      "text/plain": [
       "array(['loan_id', ' no_of_dependents', ' education', ' self_employed',\n",
       "       ' income_annum', ' loan_amount', ' loan_term', ' cibil_score',\n",
       "       ' residential_assets_value', ' commercial_assets_value',\n",
       "       ' luxury_assets_value', ' bank_asset_value', ' loan_status'],\n",
       "      dtype=object)"
      ]
     },
     "execution_count": 10,
     "metadata": {},
     "output_type": "execute_result"
    }
   ],
   "source": [
    "raw_data.columns.values"
   ]
  },
  {
   "cell_type": "markdown",
   "id": "28b30db6",
   "metadata": {},
   "source": [
    "Many columns' name have a space before their name. We can fix this by mapping with new names which do not contain spaces"
   ]
  },
  {
   "cell_type": "code",
   "execution_count": 12,
   "id": "458f56e5",
   "metadata": {},
   "outputs": [
    {
     "data": {
      "text/plain": [
       "array(['loan_id', 'no_of_dependents', 'education', 'self_employed',\n",
       "       'income_annum', 'loan_amount', 'loan_term', 'cibil_score',\n",
       "       'residential_assets_value', 'commercial_assets_value',\n",
       "       'luxury_assets_value', 'bank_asset_value', 'loan_status'],\n",
       "      dtype=object)"
      ]
     },
     "execution_count": 12,
     "metadata": {},
     "output_type": "execute_result"
    }
   ],
   "source": [
    "new_cols_name = ['loan_id', 'no_of_dependents', 'education', 'self_employed',\n",
    "                 'income_annum', 'loan_amount', 'loan_term', 'cibil_score',\n",
    "                 'residential_assets_value', 'commercial_assets_value',\n",
    "                 'luxury_assets_value', 'bank_asset_value', 'loan_status']\n",
    "\n",
    "column_name_mapping = dict(zip(raw_data.columns, new_cols_name))\n",
    "raw_data.rename(columns=column_name_mapping, inplace=True)\n",
    "\n",
    "raw_data.columns.values"
   ]
  },
  {
   "cell_type": "markdown",
   "id": "40773c66",
   "metadata": {},
   "source": [
    "## Checking columns data types and missing values"
   ]
  },
  {
   "cell_type": "code",
   "execution_count": 9,
   "id": "645b849c",
   "metadata": {},
   "outputs": [
    {
     "name": "stdout",
     "output_type": "stream",
     "text": [
      "<class 'pandas.core.frame.DataFrame'>\n",
      "RangeIndex: 4269 entries, 0 to 4268\n",
      "Data columns (total 13 columns):\n",
      " #   Column                     Non-Null Count  Dtype \n",
      "---  ------                     --------------  ----- \n",
      " 0   loan_id                    4269 non-null   int64 \n",
      " 1    no_of_dependents          4269 non-null   int64 \n",
      " 2    education                 4269 non-null   object\n",
      " 3    self_employed             4269 non-null   object\n",
      " 4    income_annum              4269 non-null   int64 \n",
      " 5    loan_amount               4269 non-null   int64 \n",
      " 6    loan_term                 4269 non-null   int64 \n",
      " 7    cibil_score               4269 non-null   int64 \n",
      " 8    residential_assets_value  4269 non-null   int64 \n",
      " 9    commercial_assets_value   4269 non-null   int64 \n",
      " 10   luxury_assets_value       4269 non-null   int64 \n",
      " 11   bank_asset_value          4269 non-null   int64 \n",
      " 12   loan_status               4269 non-null   object\n",
      "dtypes: int64(10), object(3)\n",
      "memory usage: 433.7+ KB\n"
     ]
    }
   ],
   "source": [
    "raw_data.info()"
   ]
  },
  {
   "cell_type": "code",
   "execution_count": null,
   "id": "60231b43",
   "metadata": {},
   "outputs": [],
   "source": []
  }
 ],
 "metadata": {
  "kernelspec": {
   "display_name": "Python 3 (ipykernel)",
   "language": "python",
   "name": "python3"
  },
  "language_info": {
   "codemirror_mode": {
    "name": "ipython",
    "version": 3
   },
   "file_extension": ".py",
   "mimetype": "text/x-python",
   "name": "python",
   "nbconvert_exporter": "python",
   "pygments_lexer": "ipython3",
   "version": "3.9.18"
  }
 },
 "nbformat": 4,
 "nbformat_minor": 5
}
